{
  "nbformat": 4,
  "nbformat_minor": 0,
  "metadata": {
    "colab": {
      "name": "import.ipynb",
      "provenance": [],
      "collapsed_sections": [],
      "authorship_tag": "ABX9TyMv429IMsloMw5zVTHfHfX/",
      "include_colab_link": true
    },
    "kernelspec": {
      "name": "python3",
      "display_name": "Python 3"
    },
    "language_info": {
      "name": "python"
    }
  },
  "cells": [
    {
      "cell_type": "markdown",
      "metadata": {
        "id": "view-in-github",
        "colab_type": "text"
      },
      "source": [
        "<a href=\"https://colab.research.google.com/github/lizehrhardt/recaptcha/blob/main/import.ipynb\" target=\"_parent\"><img src=\"https://colab.research.google.com/assets/colab-badge.svg\" alt=\"Open In Colab\"/></a>"
      ]
    },
    {
      "cell_type": "markdown",
      "source": [
        "Mount GoogleDrive where datasets are located"
      ],
      "metadata": {
        "id": "K5tt37HAiO1l"
      }
    },
    {
      "cell_type": "code",
      "execution_count": 1,
      "metadata": {
        "colab": {
          "base_uri": "https://localhost:8080/"
        },
        "id": "2jGh5IDZzyji",
        "outputId": "95346aa8-7c13-485a-8b9e-3a9ae45f6918"
      },
      "outputs": [
        {
          "output_type": "stream",
          "name": "stdout",
          "text": [
            "Mounted at /content/drive\n"
          ]
        }
      ],
      "source": [
        "from google.colab import drive\n",
        "drive.mount('/content/drive')\n"
      ]
    },
    {
      "cell_type": "code",
      "source": [
        "!ls \"/content/drive/MyDrive/captcha/large/train\"\n",
        "!pwd"
      ],
      "metadata": {
        "colab": {
          "base_uri": "https://localhost:8080/"
        },
        "id": "phgcvUJB3q4z",
        "outputId": "062816d8-9eb0-49d7-a938-f800de42fcbd"
      },
      "execution_count": 2,
      "outputs": [
        {
          "output_type": "stream",
          "name": "stdout",
          "text": [
            " Bicycle   Bus\t Chimney     Hydrant\t  Mountain   Palm    'Traffic Light'\n",
            " Bridge    Car\t Crosswalk   Motorcycle   Other      Stairs\n",
            "/content\n"
          ]
        }
      ]
    },
    {
      "cell_type": "markdown",
      "source": [
        "Import python packages and declare global variables"
      ],
      "metadata": {
        "id": "NezyVhtBiIFd"
      }
    },
    {
      "cell_type": "code",
      "source": [
        "import os\n",
        "import numpy as np\n",
        "import cv2\n",
        "from google.colab.patches import cv2_imshow\n",
        "\n",
        "large_labels = ['Bicycle', 'Bridge', 'Bus', 'Car', 'Chimney', 'Crosswalk', 'Hydrant', 'Motorcycle', 'Mountain', 'Other', 'Palm', 'Stairs', 'Traffic Light']\n",
        "small_labels = ['Car', 'Crosswalk', 'Hydrant', 'TrafficLight']\n"
      ],
      "metadata": {
        "id": "b1vXC0KC-S2N"
      },
      "execution_count": 3,
      "outputs": []
    },
    {
      "cell_type": "code",
      "source": [
        "import matplotlib.pyplot as plt\n",
        "import PIL\n",
        "import tensorflow as tf\n",
        "\n",
        "from tensorflow import keras\n",
        "from tensorflow.keras import layers\n",
        "from tensorflow.keras.models import Sequential\n",
        "\n",
        "image_size = 128\n",
        "batch_size = 32\n",
        "\n",
        "np_data = 'numpy_data/'\n",
        "\n",
        "large_train_path = \"/content/drive/MyDrive/captcha/large/train\"\n",
        "large_test_path = \"/content/drive/MyDrive/captcha/large/val\"\n",
        "small_data_path = \"/content/drive/MyDrive/captcha/small\""
      ],
      "metadata": {
        "id": "ARRWXJqXAT7a"
      },
      "execution_count": 4,
      "outputs": []
    },
    {
      "cell_type": "code",
      "source": [
        "def save_data(data_dir, file_prefix, labels):\n",
        "    data = [] \n",
        "    for label in labels: \n",
        "        path = os.path.join(data_dir, label)\n",
        "        class_num = labels.index(label)\n",
        "        for img in os.listdir(path):\n",
        "            try:\n",
        "                #img_arr = cv2.imread(os.path.join(path, img))[...,::-1] #convert BGR to RGB format\n",
        "                img_path = os.path.join(path, img)\n",
        "                img = keras.preprocessing.image.load_img(img_path, target_size=(image_size, image_size))\n",
        "                img_arr = keras.preprocessing.image.img_to_array(img)\n",
        "                img_arr = img_arr/255.0\n",
        "                #img_arr = cv2.imread(os.path.join(path,img),1)\n",
        "                #resized_arr = cv2.resize(img_arr, (img_size, img_size)) # Reshaping images to preferred size\n",
        "                #data.append([resized_arr, class_num])\n",
        "                data.append([img_arr, class_num])\n",
        "            except Exception as e:\n",
        "                print(e)\n",
        "        np.save(np_data+file_prefix+label, data)\n",
        "    return np.array(data)"
      ],
      "metadata": {
        "id": "-PYQDhfqe6Sl"
      },
      "execution_count": 5,
      "outputs": []
    },
    {
      "cell_type": "code",
      "source": [
        "def get_small_data(data_dir):\n",
        "    data = [] \n",
        "    for label in small_labels: \n",
        "        path = os.path.join(data_dir, label)\n",
        "        class_num = small_labels.index(label)\n",
        "        ctr = 0\n",
        "        for img in os.listdir(path):\n",
        "            try:\n",
        "                #img_arr = cv2.imread(os.path.join(path, img))[...,::-1] #convert BGR to RGB format\n",
        "                img_path = os.path.join(path, img)\n",
        "                img = keras.preprocessing.image.load_img(img_path, target_size=(image_size, image_size))\n",
        "                img_arr = keras.preprocessing.image.img_to_array(img)\n",
        "                img_arr = img_arr/255.0\n",
        "                #img_arr = cv2.imread(os.path.join(path,img),1)\n",
        "                #resized_arr = cv2.resize(img_arr, (img_size, img_size)) # Reshaping images to preferred size\n",
        "                #data.append([resized_arr, class_num])\n",
        "                data.append([img_arr, class_num])\n",
        "            except Exception as e:\n",
        "                print(e)\n",
        "        np.save('numpy_data/Small_'+label, data)\n",
        "    return np.array(data)"
      ],
      "metadata": {
        "id": "OxuTgMnKhlR_"
      },
      "execution_count": 6,
      "outputs": []
    },
    {
      "cell_type": "code",
      "source": [
        "def get_large_data(data_dir):\n",
        "    data = [] \n",
        "    for label in large_labels: \n",
        "        path = os.path.join(data_dir, label)\n",
        "        class_num = large_labels.index(label)\n",
        "        for img in os.listdir(path):\n",
        "            try:\n",
        "                img_path = os.path.join(path, img)\n",
        "                img = keras.preprocessing.image.load_img(img_path, target_size=(image_size, image_size))\n",
        "                img_arr = keras.preprocessing.image.img_to_array(img)\n",
        "                img_arr = img_arr/255.0\n",
        "                #resized_arr = cv2.resize(img_arr, (img_size, img_size)) # Reshaping images to preferred size\n",
        "                #data.append([resized_arr, class_num])\n",
        "                data.append([img_arr, class_num])\n",
        "            except Exception as e:\n",
        "                print(e)\n",
        "        np.save('numpy_data/Large_'+label, data)\n",
        "    return np.array(data)"
      ],
      "metadata": {
        "id": "nWbAnH5lTTGI"
      },
      "execution_count": 7,
      "outputs": []
    },
    {
      "cell_type": "code",
      "source": [
        "#small_data = save_data(small_data_path,'Small_',small_labels)\n",
        "large_train_data = save_data(large_train_path,'Large_Train_',large_labels)\n",
        "large_test_data = save_data(large_test_path,'Large_Test_',large_labels)\n",
        "#small_data = get_small_data(small_data_path)\n",
        "large_train_data = get_large_data(large_train_path)\n",
        "large_test_data = get_large_data(large_test_path)\n",
        "#bus_test = get_data('../input/traintestsports/Main/test')\n"
      ],
      "metadata": {
        "colab": {
          "base_uri": "https://localhost:8080/",
          "height": 416
        },
        "id": "yhGlKdl5hwFE",
        "outputId": "5d37b4ee-7784-4f4e-a533-c64bf5be31ac"
      },
      "execution_count": 10,
      "outputs": [
        {
          "output_type": "error",
          "ename": "FileNotFoundError",
          "evalue": "ignored",
          "traceback": [
            "\u001b[0;31m---------------------------------------------------------------------------\u001b[0m",
            "\u001b[0;31mFileNotFoundError\u001b[0m                         Traceback (most recent call last)",
            "\u001b[0;32m<ipython-input-10-b4a9aec30db2>\u001b[0m in \u001b[0;36m<module>\u001b[0;34m()\u001b[0m\n\u001b[1;32m      1\u001b[0m \u001b[0;31m#small_data = save_data(small_data_path,'Small_',small_labels)\u001b[0m\u001b[0;34m\u001b[0m\u001b[0;34m\u001b[0m\u001b[0;34m\u001b[0m\u001b[0m\n\u001b[0;32m----> 2\u001b[0;31m \u001b[0mlarge_train_data\u001b[0m \u001b[0;34m=\u001b[0m \u001b[0msave_data\u001b[0m\u001b[0;34m(\u001b[0m\u001b[0mlarge_train_path\u001b[0m\u001b[0;34m,\u001b[0m\u001b[0;34m'Large_Train_'\u001b[0m\u001b[0;34m,\u001b[0m\u001b[0mlarge_labels\u001b[0m\u001b[0;34m)\u001b[0m\u001b[0;34m\u001b[0m\u001b[0;34m\u001b[0m\u001b[0m\n\u001b[0m\u001b[1;32m      3\u001b[0m \u001b[0mlarge_test_data\u001b[0m \u001b[0;34m=\u001b[0m \u001b[0msave_data\u001b[0m\u001b[0;34m(\u001b[0m\u001b[0mlarge_test_path\u001b[0m\u001b[0;34m,\u001b[0m\u001b[0;34m'Large_Test_'\u001b[0m\u001b[0;34m,\u001b[0m\u001b[0mlarge_labels\u001b[0m\u001b[0;34m)\u001b[0m\u001b[0;34m\u001b[0m\u001b[0;34m\u001b[0m\u001b[0m\n\u001b[1;32m      4\u001b[0m \u001b[0;31m#small_data = get_small_data(small_data_path)\u001b[0m\u001b[0;34m\u001b[0m\u001b[0;34m\u001b[0m\u001b[0;34m\u001b[0m\u001b[0m\n\u001b[1;32m      5\u001b[0m \u001b[0mlarge_train_data\u001b[0m \u001b[0;34m=\u001b[0m \u001b[0mget_large_data\u001b[0m\u001b[0;34m(\u001b[0m\u001b[0mlarge_train_path\u001b[0m\u001b[0;34m)\u001b[0m\u001b[0;34m\u001b[0m\u001b[0;34m\u001b[0m\u001b[0m\n",
            "\u001b[0;32m<ipython-input-5-064e135b306b>\u001b[0m in \u001b[0;36msave_data\u001b[0;34m(data_dir, file_prefix, labels)\u001b[0m\n\u001b[1;32m     17\u001b[0m             \u001b[0;32mexcept\u001b[0m \u001b[0mException\u001b[0m \u001b[0;32mas\u001b[0m \u001b[0me\u001b[0m\u001b[0;34m:\u001b[0m\u001b[0;34m\u001b[0m\u001b[0;34m\u001b[0m\u001b[0m\n\u001b[1;32m     18\u001b[0m                 \u001b[0mprint\u001b[0m\u001b[0;34m(\u001b[0m\u001b[0me\u001b[0m\u001b[0;34m)\u001b[0m\u001b[0;34m\u001b[0m\u001b[0;34m\u001b[0m\u001b[0m\n\u001b[0;32m---> 19\u001b[0;31m         \u001b[0mnp\u001b[0m\u001b[0;34m.\u001b[0m\u001b[0msave\u001b[0m\u001b[0;34m(\u001b[0m\u001b[0mnp_data\u001b[0m\u001b[0;34m+\u001b[0m\u001b[0mfile_prefix\u001b[0m\u001b[0;34m+\u001b[0m\u001b[0mlabel\u001b[0m\u001b[0;34m,\u001b[0m \u001b[0mdata\u001b[0m\u001b[0;34m)\u001b[0m\u001b[0;34m\u001b[0m\u001b[0;34m\u001b[0m\u001b[0m\n\u001b[0m\u001b[1;32m     20\u001b[0m     \u001b[0;32mreturn\u001b[0m \u001b[0mnp\u001b[0m\u001b[0;34m.\u001b[0m\u001b[0marray\u001b[0m\u001b[0;34m(\u001b[0m\u001b[0mdata\u001b[0m\u001b[0;34m)\u001b[0m\u001b[0;34m\u001b[0m\u001b[0;34m\u001b[0m\u001b[0m\n",
            "\u001b[0;32m<__array_function__ internals>\u001b[0m in \u001b[0;36msave\u001b[0;34m(*args, **kwargs)\u001b[0m\n",
            "\u001b[0;32m/usr/local/lib/python3.7/dist-packages/numpy/lib/npyio.py\u001b[0m in \u001b[0;36msave\u001b[0;34m(file, arr, allow_pickle, fix_imports)\u001b[0m\n\u001b[1;32m    523\u001b[0m         \u001b[0;32mif\u001b[0m \u001b[0;32mnot\u001b[0m \u001b[0mfile\u001b[0m\u001b[0;34m.\u001b[0m\u001b[0mendswith\u001b[0m\u001b[0;34m(\u001b[0m\u001b[0;34m'.npy'\u001b[0m\u001b[0;34m)\u001b[0m\u001b[0;34m:\u001b[0m\u001b[0;34m\u001b[0m\u001b[0;34m\u001b[0m\u001b[0m\n\u001b[1;32m    524\u001b[0m             \u001b[0mfile\u001b[0m \u001b[0;34m=\u001b[0m \u001b[0mfile\u001b[0m \u001b[0;34m+\u001b[0m \u001b[0;34m'.npy'\u001b[0m\u001b[0;34m\u001b[0m\u001b[0;34m\u001b[0m\u001b[0m\n\u001b[0;32m--> 525\u001b[0;31m         \u001b[0mfile_ctx\u001b[0m \u001b[0;34m=\u001b[0m \u001b[0mopen\u001b[0m\u001b[0;34m(\u001b[0m\u001b[0mfile\u001b[0m\u001b[0;34m,\u001b[0m \u001b[0;34m\"wb\"\u001b[0m\u001b[0;34m)\u001b[0m\u001b[0;34m\u001b[0m\u001b[0;34m\u001b[0m\u001b[0m\n\u001b[0m\u001b[1;32m    526\u001b[0m \u001b[0;34m\u001b[0m\u001b[0m\n\u001b[1;32m    527\u001b[0m     \u001b[0;32mwith\u001b[0m \u001b[0mfile_ctx\u001b[0m \u001b[0;32mas\u001b[0m \u001b[0mfid\u001b[0m\u001b[0;34m:\u001b[0m\u001b[0;34m\u001b[0m\u001b[0;34m\u001b[0m\u001b[0m\n",
            "\u001b[0;31mFileNotFoundError\u001b[0m: [Errno 2] No such file or directory: 'numpy_data/Large_Train_Bicycle.npy'"
          ]
        }
      ]
    },
    {
      "cell_type": "code",
      "source": [
        "from google.colab import drive\n",
        "drive.mount('/content/drive')"
      ],
      "metadata": {
        "id": "NPpOSohHcXoa"
      },
      "execution_count": null,
      "outputs": []
    },
    {
      "cell_type": "code",
      "source": [
        "print(small_data.shape)\n",
        "img = small_data[1,0]\n",
        "print(img.shape)\n",
        "print(small_data[1,1])\n",
        "cv2_imshow(img)"
      ],
      "metadata": {
        "colab": {
          "base_uri": "https://localhost:8080/",
          "height": 197
        },
        "id": "fHe-TML_Ngqz",
        "outputId": "11e4b396-585a-4e62-92db-aca51153c47e"
      },
      "execution_count": null,
      "outputs": [
        {
          "output_type": "stream",
          "name": "stdout",
          "text": [
            "(6621, 2)\n",
            "(128, 128, 3)\n",
            "0\n"
          ]
        },
        {
          "output_type": "display_data",
          "data": {
            "text/plain": [
              "<PIL.Image.Image image mode=RGB size=128x128 at 0x7F308204D910>"
            ],
            "image/png": "[encoded data removed]"
          },
          "metadata": {}
        }
      ]
    },
    {
      "cell_type": "code",
      "source": [
        "print(large_test_data.shape)\n",
        "img = large_test_data[1,0]\n",
        "print(img.shape)\n",
        "print(large_test_data[1,1])\n",
        "cv2_imshow(img)"
      ],
      "metadata": {
        "colab": {
          "base_uri": "https://localhost:8080/",
          "height": 169
        },
        "id": "WH2U9RDRh3wK",
        "outputId": "979d0bcb-d2fe-4971-de0f-a686f9609998"
      },
      "execution_count": null,
      "outputs": [
        {
          "output_type": "stream",
          "name": "stdout",
          "text": [
            "(4117, 2)\n",
            "(100, 100, 3)\n",
            "0\n"
          ]
        },
        {
          "output_type": "display_data",
          "data": {
            "text/plain": [
              "<PIL.Image.Image image mode=RGB size=100x100 at 0x7F3081FA8510>"
            ],
            "image/png": "[encoded data removed]"
          },
          "metadata": {}
        }
      ]
    },
    {
      "cell_type": "code",
      "source": [
        "print(large_train_data.shape)\n",
        "img = large_train_data[1,0]\n",
        "print(large_train_data[1,1])\n",
        "cv2_imshow(img)"
      ],
      "metadata": {
        "colab": {
          "base_uri": "https://localhost:8080/",
          "height": 152
        },
        "id": "Z_POoSEUUxsq",
        "outputId": "ba5aa9b3-197b-4e11-f548-bc904a866b4e"
      },
      "execution_count": null,
      "outputs": [
        {
          "output_type": "stream",
          "name": "stdout",
          "text": [
            "(8255, 2)\n",
            "3\n"
          ]
        },
        {
          "output_type": "display_data",
          "data": {
            "text/plain": [
              "<PIL.Image.Image image mode=RGB size=100x100 at 0x7F3C17374A90>"
            ],
            "image/png": "[encoded data removed]"
          },
          "metadata": {}
        }
      ]
    },
    {
      "cell_type": "code",
      "source": [
        "train_datagen = keras.preprocessing.image.ImageDataGenerator()\n",
        "\n",
        "train_generator = train_datagen.flow_from_directory(directory=large_train_path, target_size=(image_size, image_size))"
      ],
      "metadata": {
        "colab": {
          "base_uri": "https://localhost:8080/"
        },
        "id": "DUb9kDsGi3hV",
        "outputId": "fd0f2332-074b-4f31-aba0-3d181166a0fc"
      },
      "execution_count": null,
      "outputs": [
        {
          "output_type": "stream",
          "name": "stdout",
          "text": [
            "Found 8255 images belonging to 13 classes.\n"
          ]
        }
      ]
    },
    {
      "cell_type": "code",
      "source": [
        "validation_datagen = keras.preprocessing.image.ImageDataGenerator()\n",
        "\n",
        "validation_generator = validation_datagen.flow_from_directory(directory=large_test_path, target_size=(image_size, image_size))"
      ],
      "metadata": {
        "colab": {
          "base_uri": "https://localhost:8080/"
        },
        "id": "UMJnWwGpmb8h",
        "outputId": "165fc8bb-c62d-4061-bbba-024d46698071"
      },
      "execution_count": null,
      "outputs": [
        {
          "output_type": "stream",
          "name": "stdout",
          "text": [
            "Found 4117 images belonging to 13 classes.\n"
          ]
        }
      ]
    },
    {
      "cell_type": "code",
      "source": [
        "base_model = tf.keras.applications.MobileNet(input_shape=(image_size,image_size,3), include_top=False)\n",
        "\n",
        "base_model.trainable = False\n",
        "\n",
        "base_model = tf.keras.Sequential([\n",
        "  base_model,\n",
        "  keras.layers.GlobalAveragePooling2D(),\n",
        "  keras.layers.Dense(13, activation='sigmoid')\n",
        "])\n",
        "\n",
        "base_model.compile(optimizer=tf.keras.optimizers.RMSprop(learning_rate=0.0001),\n",
        "              loss='binary_crossentropy',\n",
        "              metrics=['accuracy'])\n",
        "\n",
        "base_model.summary()"
      ],
      "metadata": {
        "colab": {
          "base_uri": "https://localhost:8080/"
        },
        "id": "5b4f7gXkBUe_",
        "outputId": "61fda24a-951c-49b3-ac72-f30a3a5ba065"
      },
      "execution_count": null,
      "outputs": [
        {
          "output_type": "stream",
          "name": "stdout",
          "text": [
            "Model: \"sequential_1\"\n",
            "_________________________________________________________________\n",
            " Layer (type)                Output Shape              Param #   \n",
            "=================================================================\n",
            " mobilenet_1.00_128 (Functio  (None, 4, 4, 1024)       3228864   \n",
            " nal)                                                            \n",
            "                                                                 \n",
            " global_average_pooling2d_1   (None, 1024)             0         \n",
            " (GlobalAveragePooling2D)                                        \n",
            "                                                                 \n",
            " dense_1 (Dense)             (None, 13)                13325     \n",
            "                                                                 \n",
            "=================================================================\n",
            "Total params: 3,242,189\n",
            "Trainable params: 13,325\n",
            "Non-trainable params: 3,228,864\n",
            "_________________________________________________________________\n"
          ]
        },
        {
          "output_type": "stream",
          "name": "stderr",
          "text": [
            "/usr/local/lib/python3.7/dist-packages/keras/optimizer_v2/rmsprop.py:130: UserWarning: The `lr` argument is deprecated, use `learning_rate` instead.\n",
            "  super(RMSprop, self).__init__(name, **kwargs)\n"
          ]
        }
      ]
    },
    {
      "cell_type": "code",
      "source": [
        "epochs = 25\n",
        "\n",
        "steps_per_epoch = np.ceil(train_generator.n / batch_size)\n",
        "validation_steps = np.ceil(validation_generator.n / batch_size)\n",
        "\n",
        "history = base_model.fit_generator(generator=train_generator,\n",
        "                              steps_per_epoch = steps_per_epoch,\n",
        "                              epochs=epochs,\n",
        "                              validation_data=validation_generator,\n",
        "                              validation_steps=validation_steps)\n",
        "\n",
        "base_model.save('MobileNet_TransferLearning_Captcha.h5')"
      ],
      "metadata": {
        "id": "kZLn7XK8SVQn",
        "colab": {
          "base_uri": "https://localhost:8080/"
        },
        "outputId": "a45e967b-dde1-4f77-fd63-44a6eb7b02a9"
      },
      "execution_count": null,
      "outputs": [
        {
          "output_type": "stream",
          "name": "stderr",
          "text": [
            "/usr/local/lib/python3.7/dist-packages/ipykernel_launcher.py:10: UserWarning: `Model.fit_generator` is deprecated and will be removed in a future version. Please use `Model.fit`, which supports generators.\n",
            "  # Remove the CWD from sys.path while we load stuff.\n"
          ]
        },
        {
          "output_type": "stream",
          "name": "stdout",
          "text": [
            "Epoch 1/25\n",
            "258/258 [==============================] - 123s 470ms/step - loss: 0.2698 - accuracy: 0.2251 - val_loss: 0.3857 - val_accuracy: 0.1790\n",
            "Epoch 2/25\n",
            "258/258 [==============================] - 119s 460ms/step - loss: 0.1942 - accuracy: 0.3939 - val_loss: 0.4782 - val_accuracy: 0.2252\n",
            "Epoch 3/25\n",
            "258/258 [==============================] - 120s 465ms/step - loss: 0.1815 - accuracy: 0.4516 - val_loss: 0.5184 - val_accuracy: 0.2429\n",
            "Epoch 4/25\n",
            "258/258 [==============================] - 120s 463ms/step - loss: 0.1743 - accuracy: 0.4806 - val_loss: 0.5283 - val_accuracy: 0.2516\n",
            "Epoch 5/25\n",
            "258/258 [==============================] - 164s 637ms/step - loss: 0.1695 - accuracy: 0.4950 - val_loss: 0.5391 - val_accuracy: 0.2560\n",
            "Epoch 6/25\n",
            "258/258 [==============================] - 116s 450ms/step - loss: 0.1658 - accuracy: 0.5070 - val_loss: 0.5411 - val_accuracy: 0.2618\n",
            "Epoch 7/25\n",
            "258/258 [==============================] - 117s 456ms/step - loss: 0.1629 - accuracy: 0.5181 - val_loss: 0.5441 - val_accuracy: 0.2623\n",
            "Epoch 8/25\n",
            "258/258 [==============================] - 115s 448ms/step - loss: 0.1605 - accuracy: 0.5236 - val_loss: 0.5491 - val_accuracy: 0.2657\n",
            "Epoch 9/25\n",
            "258/258 [==============================] - 114s 444ms/step - loss: 0.1583 - accuracy: 0.5340 - val_loss: 0.5513 - val_accuracy: 0.2689\n",
            "Epoch 10/25\n",
            "258/258 [==============================] - 114s 443ms/step - loss: 0.1565 - accuracy: 0.5396 - val_loss: 0.5556 - val_accuracy: 0.2723\n",
            "Epoch 11/25\n",
            "258/258 [==============================] - 113s 440ms/step - loss: 0.1549 - accuracy: 0.5454 - val_loss: 0.5553 - val_accuracy: 0.2723\n",
            "Epoch 12/25\n",
            "258/258 [==============================] - 111s 430ms/step - loss: 0.1534 - accuracy: 0.5492 - val_loss: 0.5542 - val_accuracy: 0.2779\n",
            "Epoch 13/25\n",
            "258/258 [==============================] - 111s 429ms/step - loss: 0.1522 - accuracy: 0.5534 - val_loss: 0.5534 - val_accuracy: 0.2803\n",
            "Epoch 14/25\n",
            "258/258 [==============================] - 111s 430ms/step - loss: 0.1509 - accuracy: 0.5548 - val_loss: 0.5643 - val_accuracy: 0.2793\n",
            "Epoch 15/25\n",
            "258/258 [==============================] - 110s 428ms/step - loss: 0.1499 - accuracy: 0.5605 - val_loss: 0.5651 - val_accuracy: 0.2803\n",
            "Epoch 16/25\n",
            "258/258 [==============================] - 111s 432ms/step - loss: 0.1489 - accuracy: 0.5634 - val_loss: 0.5661 - val_accuracy: 0.2822\n",
            "Epoch 17/25\n",
            "258/258 [==============================] - 111s 429ms/step - loss: 0.1479 - accuracy: 0.5677 - val_loss: 0.5657 - val_accuracy: 0.2808\n",
            "Epoch 18/25\n",
            "258/258 [==============================] - 111s 429ms/step - loss: 0.1471 - accuracy: 0.5726 - val_loss: 0.5632 - val_accuracy: 0.2830\n",
            "Epoch 19/25\n",
            "258/258 [==============================] - 110s 427ms/step - loss: 0.1462 - accuracy: 0.5754 - val_loss: 0.5659 - val_accuracy: 0.2861\n",
            "Epoch 20/25\n",
            "258/258 [==============================] - 110s 428ms/step - loss: 0.1454 - accuracy: 0.5760 - val_loss: 0.5680 - val_accuracy: 0.2832\n",
            "Epoch 21/25\n",
            "258/258 [==============================] - 111s 429ms/step - loss: 0.1447 - accuracy: 0.5824 - val_loss: 0.5658 - val_accuracy: 0.2837\n",
            "Epoch 22/25\n",
            "258/258 [==============================] - 111s 429ms/step - loss: 0.1440 - accuracy: 0.5830 - val_loss: 0.5637 - val_accuracy: 0.2847\n",
            "Epoch 23/25\n",
            "258/258 [==============================] - 111s 429ms/step - loss: 0.1433 - accuracy: 0.5846 - val_loss: 0.5685 - val_accuracy: 0.2844\n",
            "Epoch 24/25\n",
            "258/258 [==============================] - 110s 428ms/step - loss: 0.1428 - accuracy: 0.5886 - val_loss: 0.5670 - val_accuracy: 0.2859\n",
            "Epoch 25/25\n",
            "258/258 [==============================] - 111s 430ms/step - loss: 0.1422 - accuracy: 0.5903 - val_loss: 0.5691 - val_accuracy: 0.2871\n"
          ]
        }
      ]
    },
    {
      "cell_type": "code",
      "source": [
        "model = tensorflow.keras.models.load_model('MobileNet_TransferLearning_Captcha.h5')"
      ],
      "metadata": {
        "id": "33Gf8LuVrCJw"
      },
      "execution_count": null,
      "outputs": []
    },
    {
      "cell_type": "code",
      "source": [
        "img_height = 128\n",
        "img_width = 128\n",
        "num_classes = len(large_labels)\n",
        "\n",
        "model = Sequential([\n",
        "  layers.Rescaling(1./255, input_shape=(img_height, img_width, 3)),\n",
        "  layers.Conv2D(16, 3, padding='same', activation='relu'),\n",
        "  layers.MaxPooling2D(),\n",
        "  layers.Conv2D(32, 3, padding='same', activation='relu'),\n",
        "  layers.MaxPooling2D(),\n",
        "  layers.Conv2D(64, 3, padding='same', activation='relu'),\n",
        "  layers.MaxPooling2D(),\n",
        "  layers.Flatten(),\n",
        "  layers.Dense(128, activation='relu'),\n",
        "  layers.Dense(num_classes)\n",
        "])"
      ],
      "metadata": {
        "id": "vmhXPDeVXueG"
      },
      "execution_count": null,
      "outputs": []
    },
    {
      "cell_type": "code",
      "source": [
        "model.compile(optimizer='adam',\n",
        "              loss=tf.keras.losses.SparseCategoricalCrossentropy(from_logits=True),\n",
        "              metrics=['accuracy'])"
      ],
      "metadata": {
        "id": "2LFN_iDXYJmy"
      },
      "execution_count": null,
      "outputs": []
    },
    {
      "cell_type": "code",
      "source": [
        "model.summary()"
      ],
      "metadata": {
        "colab": {
          "base_uri": "https://localhost:8080/"
        },
        "id": "vLDQGI1eYn-6",
        "outputId": "56a31c0d-76b6-4d7f-eed2-d12611eced35"
      },
      "execution_count": null,
      "outputs": [
        {
          "output_type": "stream",
          "name": "stdout",
          "text": [
            "Model: \"sequential\"\n",
            "_________________________________________________________________\n",
            " Layer (type)                Output Shape              Param #   \n",
            "=================================================================\n",
            " rescaling_1 (Rescaling)     (None, 128, 128, 3)       0         \n",
            "                                                                 \n",
            " conv2d (Conv2D)             (None, 128, 128, 16)      448       \n",
            "                                                                 \n",
            " max_pooling2d (MaxPooling2D  (None, 64, 64, 16)       0         \n",
            " )                                                               \n",
            "                                                                 \n",
            " conv2d_1 (Conv2D)           (None, 64, 64, 32)        4640      \n",
            "                                                                 \n",
            " max_pooling2d_1 (MaxPooling  (None, 32, 32, 32)       0         \n",
            " 2D)                                                             \n",
            "                                                                 \n",
            " conv2d_2 (Conv2D)           (None, 32, 32, 64)        18496     \n",
            "                                                                 \n",
            " max_pooling2d_2 (MaxPooling  (None, 16, 16, 64)       0         \n",
            " 2D)                                                             \n",
            "                                                                 \n",
            " flatten (Flatten)           (None, 16384)             0         \n",
            "                                                                 \n",
            " dense (Dense)               (None, 128)               2097280   \n",
            "                                                                 \n",
            " dense_1 (Dense)             (None, 13)                1677      \n",
            "                                                                 \n",
            "=================================================================\n",
            "Total params: 2,122,541\n",
            "Trainable params: 2,122,541\n",
            "Non-trainable params: 0\n",
            "_________________________________________________________________\n"
          ]
        }
      ]
    },
    {
      "cell_type": "code",
      "source": [
        "epochs=10\n",
        "history = model.fit(\n",
        "  large_train_data,\n",
        "  validation_data = large_test_data,\n",
        "  epochs= 2\n",
        ")"
      ],
      "metadata": {
        "colab": {
          "base_uri": "https://localhost:8080/",
          "height": 380
        },
        "id": "sd9_O-_JYyZv",
        "outputId": "b32de55f-7bdc-4569-f0b8-8310f317783b"
      },
      "execution_count": null,
      "outputs": [
        {
          "output_type": "error",
          "ename": "ValueError",
          "evalue": "ignored",
          "traceback": [
            "\u001b[0;31m---------------------------------------------------------------------------\u001b[0m",
            "\u001b[0;31mValueError\u001b[0m                                Traceback (most recent call last)",
            "\u001b[0;32m<ipython-input-20-e45097af140a>\u001b[0m in \u001b[0;36m<module>\u001b[0;34m()\u001b[0m\n\u001b[1;32m      3\u001b[0m   \u001b[0mlarge_train_data\u001b[0m\u001b[0;34m,\u001b[0m\u001b[0;34m\u001b[0m\u001b[0;34m\u001b[0m\u001b[0m\n\u001b[1;32m      4\u001b[0m   \u001b[0mvalidation_data\u001b[0m \u001b[0;34m=\u001b[0m \u001b[0mlarge_test_data\u001b[0m\u001b[0;34m,\u001b[0m\u001b[0;34m\u001b[0m\u001b[0;34m\u001b[0m\u001b[0m\n\u001b[0;32m----> 5\u001b[0;31m   \u001b[0mepochs\u001b[0m\u001b[0;34m=\u001b[0m \u001b[0;36m2\u001b[0m\u001b[0;34m\u001b[0m\u001b[0;34m\u001b[0m\u001b[0m\n\u001b[0m\u001b[1;32m      6\u001b[0m )\n",
            "\u001b[0;32m/usr/local/lib/python3.7/dist-packages/keras/utils/traceback_utils.py\u001b[0m in \u001b[0;36merror_handler\u001b[0;34m(*args, **kwargs)\u001b[0m\n\u001b[1;32m     65\u001b[0m     \u001b[0;32mexcept\u001b[0m \u001b[0mException\u001b[0m \u001b[0;32mas\u001b[0m \u001b[0me\u001b[0m\u001b[0;34m:\u001b[0m  \u001b[0;31m# pylint: disable=broad-except\u001b[0m\u001b[0;34m\u001b[0m\u001b[0;34m\u001b[0m\u001b[0m\n\u001b[1;32m     66\u001b[0m       \u001b[0mfiltered_tb\u001b[0m \u001b[0;34m=\u001b[0m \u001b[0m_process_traceback_frames\u001b[0m\u001b[0;34m(\u001b[0m\u001b[0me\u001b[0m\u001b[0;34m.\u001b[0m\u001b[0m__traceback__\u001b[0m\u001b[0;34m)\u001b[0m\u001b[0;34m\u001b[0m\u001b[0;34m\u001b[0m\u001b[0m\n\u001b[0;32m---> 67\u001b[0;31m       \u001b[0;32mraise\u001b[0m \u001b[0me\u001b[0m\u001b[0;34m.\u001b[0m\u001b[0mwith_traceback\u001b[0m\u001b[0;34m(\u001b[0m\u001b[0mfiltered_tb\u001b[0m\u001b[0;34m)\u001b[0m \u001b[0;32mfrom\u001b[0m \u001b[0;32mNone\u001b[0m\u001b[0;34m\u001b[0m\u001b[0;34m\u001b[0m\u001b[0m\n\u001b[0m\u001b[1;32m     68\u001b[0m     \u001b[0;32mfinally\u001b[0m\u001b[0;34m:\u001b[0m\u001b[0;34m\u001b[0m\u001b[0;34m\u001b[0m\u001b[0m\n\u001b[1;32m     69\u001b[0m       \u001b[0;32mdel\u001b[0m \u001b[0mfiltered_tb\u001b[0m\u001b[0;34m\u001b[0m\u001b[0;34m\u001b[0m\u001b[0m\n",
            "\u001b[0;32m/usr/local/lib/python3.7/dist-packages/keras/engine/training.py\u001b[0m in \u001b[0;36mfit\u001b[0;34m(self, x, y, batch_size, epochs, verbose, callbacks, validation_split, validation_data, shuffle, class_weight, sample_weight, initial_epoch, steps_per_epoch, validation_steps, validation_batch_size, validation_freq, max_queue_size, workers, use_multiprocessing)\u001b[0m\n\u001b[1;32m   1321\u001b[0m               (x, y, sample_weight), validation_split=validation_split))\n\u001b[1;32m   1322\u001b[0m \u001b[0;34m\u001b[0m\u001b[0m\n\u001b[0;32m-> 1323\u001b[0;31m     \u001b[0;32mif\u001b[0m \u001b[0mvalidation_data\u001b[0m\u001b[0;34m:\u001b[0m\u001b[0;34m\u001b[0m\u001b[0;34m\u001b[0m\u001b[0m\n\u001b[0m\u001b[1;32m   1324\u001b[0m       val_x, val_y, val_sample_weight = (\n\u001b[1;32m   1325\u001b[0m           data_adapter.unpack_x_y_sample_weight(validation_data))\n",
            "\u001b[0;31mValueError\u001b[0m: The truth value of an array with more than one element is ambiguous. Use a.any() or a.all()"
          ]
        }
      ]
    }
  ]
}